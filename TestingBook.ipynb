{
 "cells": [
  {
   "cell_type": "code",
   "execution_count": 267,
   "id": "initial_id",
   "metadata": {
    "collapsed": true,
    "ExecuteTime": {
     "end_time": "2024-01-11T10:12:23.900925800Z",
     "start_time": "2024-01-11T10:12:23.849323600Z"
    }
   },
   "outputs": [],
   "source": [
    "import pybullet as p\n",
    "import pybullet_data\n",
    "import numpy as np\n",
    "import kinpy as kp"
   ]
  },
  {
   "cell_type": "code",
   "outputs": [],
   "source": [
    "model = kp.build_serial_chain_from_urdf(open(\"arm.urdf\"),'arm_link_5')\n",
    "jacobians = model.jacobian([0,0,0,0,0,0],end_only=False)"
   ],
   "metadata": {
    "collapsed": false,
    "ExecuteTime": {
     "end_time": "2024-01-11T10:12:23.900925800Z",
     "start_time": "2024-01-11T10:12:23.869331400Z"
    }
   },
   "id": "c8a922eab10f5c27",
   "execution_count": 268
  },
  {
   "cell_type": "code",
   "outputs": [
    {
     "name": "stdout",
     "output_type": "stream",
     "text": [
      "{'base_link': array([[0., 0., 0., 0., 0., 0.],\n",
      "       [0., 0., 0., 0., 0., 0.],\n",
      "       [0., 0., 0., 0., 0., 0.],\n",
      "       [0., 0., 0., 0., 0., 0.],\n",
      "       [0., 0., 0., 0., 0., 0.],\n",
      "       [0., 0., 0., 0., 0., 0.]]), 'arm_link_0': array([[0., 0., 0., 0., 0., 0.],\n",
      "       [0., 0., 0., 0., 0., 0.],\n",
      "       [0., 0., 0., 0., 0., 0.],\n",
      "       [0., 0., 0., 0., 0., 0.],\n",
      "       [0., 0., 0., 0., 0., 0.],\n",
      "       [0., 0., 0., 0., 0., 0.]]), 'arm_link_1': array([[0., 0., 0., 0., 0., 0.],\n",
      "       [0., 0., 0., 0., 0., 0.],\n",
      "       [0., 0., 0., 0., 0., 0.],\n",
      "       [0., 0., 0., 0., 0., 0.],\n",
      "       [0., 0., 0., 0., 0., 0.],\n",
      "       [1., 0., 0., 0., 0., 0.]]), 'arm_link_2': array([[0., 0., 0., 0., 0., 0.],\n",
      "       [0., 0., 0., 0., 0., 0.],\n",
      "       [0., 0., 0., 0., 0., 0.],\n",
      "       [0., 0., 0., 0., 0., 0.],\n",
      "       [0., 1., 0., 0., 0., 0.],\n",
      "       [1., 0., 0., 0., 0., 0.]]), 'arm_link_3': array([[0.   , 0.317, 0.   , 0.   , 0.   , 0.   ],\n",
      "       [0.   , 0.   , 0.   , 0.   , 0.   , 0.   ],\n",
      "       [0.   , 0.   , 0.   , 0.   , 0.   , 0.   ],\n",
      "       [0.   , 0.   , 0.   , 0.   , 0.   , 0.   ],\n",
      "       [0.   , 1.   , 1.   , 0.   , 0.   , 0.   ],\n",
      "       [1.   , 0.   , 0.   , 0.   , 0.   , 0.   ]]), 'arm_link_4': array([[0.   , 0.519, 0.202, 0.   , 0.   , 0.   ],\n",
      "       [0.   , 0.   , 0.   , 0.   , 0.   , 0.   ],\n",
      "       [0.   , 0.   , 0.   , 0.   , 0.   , 0.   ],\n",
      "       [0.   , 0.   , 0.   , 0.   , 0.   , 0.   ],\n",
      "       [0.   , 1.   , 1.   , 1.   , 0.   , 0.   ],\n",
      "       [1.   , 0.   , 0.   , 0.   , 0.   , 0.   ]]), 'arm_link_5': array([[0.    , 0.6795, 0.3625, 0.1605, 0.    , 0.    ],\n",
      "       [0.    , 0.    , 0.    , 0.    , 0.    , 0.    ],\n",
      "       [0.    , 0.    , 0.    , 0.    , 0.    , 0.    ],\n",
      "       [0.    , 0.    , 0.    , 0.    , 0.    , 0.    ],\n",
      "       [0.    , 1.    , 1.    , 1.    , 0.    , 0.    ],\n",
      "       [1.    , 0.    , 0.    , 0.    , 0.    , 0.    ]])}\n"
     ]
    }
   ],
   "source": [
    "print(jacobians)"
   ],
   "metadata": {
    "collapsed": false,
    "ExecuteTime": {
     "end_time": "2024-01-11T10:12:23.919918500Z",
     "start_time": "2024-01-11T10:12:23.905905800Z"
    }
   },
   "id": "a3a9abd7bd8d61a0",
   "execution_count": 269
  },
  {
   "cell_type": "code",
   "outputs": [
    {
     "name": "stdout",
     "output_type": "stream",
     "text": [
      "['arm_joint_1', 'arm_joint_2', 'arm_joint_3', 'arm_joint_4']\n"
     ]
    }
   ],
   "source": [
    "print(model.get_joint_parameter_names())"
   ],
   "metadata": {
    "collapsed": false,
    "ExecuteTime": {
     "end_time": "2024-01-11T10:12:23.950900500Z",
     "start_time": "2024-01-11T10:12:23.924916100Z"
    }
   },
   "id": "db4bc9450c7bae20",
   "execution_count": 270
  },
  {
   "cell_type": "code",
   "outputs": [
    {
     "name": "stdout",
     "output_type": "stream",
     "text": [
      "base_link_frame\n",
      "└──── arm_link_0_frame\n",
      "      └──── arm_link_1_frame\n",
      "            └──── arm_link_2_frame\n",
      "                  └──── arm_link_3_frame\n",
      "                        └──── arm_link_4_frame\n",
      "                              └──── arm_link_5_frame\n"
     ]
    }
   ],
   "source": [
    "print(model)"
   ],
   "metadata": {
    "collapsed": false,
    "ExecuteTime": {
     "end_time": "2024-01-11T10:12:23.952901400Z",
     "start_time": "2024-01-11T10:12:23.931906Z"
    }
   },
   "id": "8fdaa7fed289f5c5",
   "execution_count": 271
  },
  {
   "cell_type": "code",
   "outputs": [
    {
     "name": "stdout",
     "output_type": "stream",
     "text": [
      "Link(name='arm_link_5', offset=Transform(rot=[1. 0. 0. 0.], pos=[0. 0. 0.]), visuals=[Visual(offset=Transform(rot=[1. 0. 0. 0.], pos=[0. 0. 0.]), geom_type='None', geom_param=None)])\n"
     ]
    }
   ],
   "source": [
    "print(model.find_link(\"arm_link_5\"))"
   ],
   "metadata": {
    "collapsed": false,
    "ExecuteTime": {
     "end_time": "2024-01-11T10:12:23.964920400Z",
     "start_time": "2024-01-11T10:12:23.945905400Z"
    }
   },
   "id": "5727aeffb476d024",
   "execution_count": 272
  },
  {
   "cell_type": "code",
   "outputs": [],
   "source": [
    "def setJointPosition(robot, position, kp=1.0, kv=0.3):\n",
    "  num_joints = p.getNumJoints(robot)\n",
    "  zero_vec = [0.0] * num_joints\n",
    "  if len(position) == num_joints:\n",
    "    p.setJointMotorControlArray(robot,\n",
    "                                range(num_joints),\n",
    "                                p.POSITION_CONTROL,\n",
    "                                targetPositions=position,\n",
    "                                targetVelocities=zero_vec,\n",
    "                                positionGains=[kp] * num_joints,\n",
    "                                velocityGains=[kv] * num_joints)\n",
    "  else:\n",
    "    print(\"Not setting torque. \"\n",
    "          \"Expected torque vector of \"\n",
    "          \"length {}, got {}\".format(num_joints, len(torque)))\n",
    "def getJointStates(robot):\n",
    "  joint_states = p.getJointStates(robot, range(p.getNumJoints(robot)))\n",
    "  joint_positions = [state[0] for state in joint_states]\n",
    "  joint_velocities = [state[1] for state in joint_states]\n",
    "  joint_torques = [state[3] for state in joint_states]\n",
    "  return joint_positions, joint_velocities, joint_torques\n",
    "\n",
    "def getMotorJointStates(robot):\n",
    "  joint_states = p.getJointStates(robot, range(p.getNumJoints(robot)))\n",
    "  joint_infos = [p.getJointInfo(robot, i) for i in range(p.getNumJoints(robot))]\n",
    "  joint_states = [j for j, i in zip(joint_states, joint_infos) if i[3] > -1]\n",
    "  joint_positions = [state[0] for state in joint_states]\n",
    "  joint_velocities = [state[1] for state in joint_states]\n",
    "  joint_torques = [state[3] for state in joint_states]\n",
    "  return joint_positions, joint_velocities, joint_torques\n",
    "\n"
   ],
   "metadata": {
    "collapsed": false,
    "ExecuteTime": {
     "end_time": "2024-01-11T10:12:24.020462200Z",
     "start_time": "2024-01-11T10:12:23.964920400Z"
    }
   },
   "id": "44144886dd22a6a3",
   "execution_count": 273
  },
  {
   "cell_type": "code",
   "outputs": [
    {
     "name": "stdout",
     "output_type": "stream",
     "text": [
      "Number of joints:  6\n",
      "((0.0, 0.0, 0.857), (0.0, 0.0, 0.0, 1.0), (0.0, 0.0, 0.0), (0.0, 0.0, 0.0, 1.0), (0.0, 0.0, 0.8569999933242798), (0.0, 0.0, 0.0, 1.0), (0.0, 0.0, 0.0), (0.0, 0.0, 0.0))\n"
     ]
    }
   ],
   "source": [
    "clid = p.connect(p.SHARED_MEMORY)\n",
    "if (clid < 0):\n",
    "  p.connect(p.DIRECT)\n",
    "  \n",
    "p.setAdditionalSearchPath(pybullet_data.getDataPath())\n",
    "\n",
    "time_step = 0.001\n",
    "gravity_constant = -9.81\n",
    "p.resetSimulation()\n",
    "p.setTimeStep(time_step)\n",
    "p.setGravity(0.0, 0.0, gravity_constant)\n",
    "\n",
    "p.loadURDF(\"plane.urdf\", [0, 0, -0.3])\n",
    "\n",
    "# kukaId = p.loadURDF(\"TwoJointRobot_w_fixedJoints.urdf\", useFixedBase=True)\n",
    "kukaId = p.loadURDF(\"arm.urdf\", useFixedBase=True)\n",
    "p.resetBasePositionAndOrientation(kukaId, [0, 0, 0], [0, 0, 0, 1])\n",
    "numJoints = p.getNumJoints(kukaId)\n",
    "\n",
    "print(\"Number of joints: \", numJoints)\n",
    "kukaEndEffectorIndex = numJoints - 1\n",
    "\n",
    "# Set a joint target for the position control and step the sim.\n",
    "setJointPosition(kukaId, [0.0] * numJoints)\n",
    "p.stepSimulation()\n",
    "\n",
    "# Get the joint and link state directly from Bullet.\n",
    "pos, vel, torq = getJointStates(kukaId)\n",
    "mpos, mvel, mtorq = getMotorJointStates(kukaId)\n",
    "\n",
    "result = p.getLinkState(kukaId,\n",
    "                        kukaEndEffectorIndex,\n",
    "                        computeLinkVelocity=1,\n",
    "                        computeForwardKinematics=1)\n",
    "\n",
    "\n",
    "link_trn, link_rot, com_trn, com_rot, frame_pos, frame_rot, link_vt, link_vr = result\n",
    "\n",
    "print(result)"
   ],
   "metadata": {
    "collapsed": false,
    "ExecuteTime": {
     "end_time": "2024-01-11T10:12:24.048470800Z",
     "start_time": "2024-01-11T10:12:23.980925500Z"
    }
   },
   "id": "18731c711546fb08",
   "execution_count": 274
  },
  {
   "cell_type": "code",
   "outputs": [],
   "source": [
    "\n",
    "    "
   ],
   "metadata": {
    "collapsed": false,
    "ExecuteTime": {
     "end_time": "2024-01-11T10:12:24.051466300Z",
     "start_time": "2024-01-11T10:12:24.009465800Z"
    }
   },
   "id": "5617a1f0a0326f25",
   "execution_count": 274
  },
  {
   "cell_type": "code",
   "outputs": [
    {
     "name": "stdout",
     "output_type": "stream",
     "text": [
      "[0.0, 0.0, 0.0, 0.0]\n",
      "[0.0, 0.0, 0.0, 0.0]\n",
      "[0.0, 0.0, 0.0, 0.0]\n",
      "[(0.0, 0.0, 0.0, 0.0, 0.0, 0.0), (0.0, 0.0, 0.0, 0.0, 0.0, 0.0), (0.0, 0.0, 0.0, 0.0, 0.0, 0.0), (0.0, 0.0, 0.0, 0.0, 0.0, 0.0)]\n",
      "Jacobian Matrix:\n",
      "[[0.     0.6795 0.3625 0.1605]\n",
      " [0.     0.     0.     0.    ]\n",
      " [0.     0.     0.     0.    ]\n",
      " [0.     0.     0.     0.    ]\n",
      " [0.     1.     1.     1.    ]\n",
      " [1.     0.     0.     0.    ]]\n",
      "[[0. 0. 0. 0.]\n",
      " [0. 1. 1. 1.]\n",
      " [1. 0. 0. 0.]]\n",
      "-------------\n",
      "[[0.     0.6795 0.3625 0.1605 0.     0.    ]\n",
      " [0.     0.     0.     0.     0.     0.    ]\n",
      " [0.     0.     0.     0.     0.     0.    ]\n",
      " [0.     0.     0.     0.     0.     0.    ]\n",
      " [0.     1.     1.     1.     0.     0.    ]\n",
      " [1.     0.     0.     0.     0.     0.    ]]\n"
     ]
    }
   ],
   "source": [
    "jointPositions = [p.getJointState(kukaId, jointIndex)[0] for jointIndex in range(numJoints)]\n",
    "jointVelocities = [p.getJointState(kukaId, jointIndex)[1] for jointIndex in range(numJoints)]\n",
    "jointAccelerations = [p.getJointState(kukaId, jointIndex)[2] for jointIndex in range(numJoints)]\n",
    "\n",
    "zero_vec = [0.0] * len(mpos)\n",
    "\n",
    "print(mpos)\n",
    "print(jointPositions[1:5])\n",
    "print(jointVelocities[1:5])\n",
    "print(jointAccelerations[1:5])\n",
    "\n",
    "# Calculate the Jacobian matrix\n",
    "Jacobian, _ = p.calculateJacobian(kukaId, kukaEndEffectorIndex, [0, 0, 0], jointPositions[1:5], jointVelocities[1:5], zero_vec)\n",
    "\n",
    "# Print the Jacobian matrix\n",
    "print(\"Jacobian Matrix:\")\n",
    "print(np.concatenate([Jacobian,_]))\n",
    "print(np.array(_))\n",
    "print(\"-------------\")\n",
    "print(jacobians['arm_link_5'])"
   ],
   "metadata": {
    "collapsed": false,
    "ExecuteTime": {
     "end_time": "2024-01-11T10:12:24.052456300Z",
     "start_time": "2024-01-11T10:12:24.025470100Z"
    }
   },
   "id": "8cac5528879306e4",
   "execution_count": 275
  },
  {
   "cell_type": "markdown",
   "source": [],
   "metadata": {
    "collapsed": false
   },
   "id": "9a9732a5d1cd64fa"
  },
  {
   "cell_type": "code",
   "outputs": [
    {
     "name": "stdout",
     "output_type": "stream",
     "text": [
      "dict_keys(['base_link', 'arm_link_0', 'arm_link_1', 'arm_link_2', 'arm_link_3', 'arm_link_4', 'arm_link_5'])\n"
     ]
    }
   ],
   "source": [
    "i = 0\n",
    "mass \n",
    "for i in range(7):\n",
    "    mass.append( p.getDynamicsInfo(kukaId,i-1)[0])\n",
    "total_mass = sum(mass)\n",
    "keys = jacobians.keys()\n",
    "print(keys)"
   ],
   "metadata": {
    "collapsed": false,
    "ExecuteTime": {
     "end_time": "2024-01-11T10:12:24.101990600Z",
     "start_time": "2024-01-11T10:12:24.042465500Z"
    }
   },
   "id": "17456b9305304bd8",
   "execution_count": 276
  },
  {
   "cell_type": "code",
   "outputs": [
    {
     "name": "stdout",
     "output_type": "stream",
     "text": [
      "[[0.         0.00974175 0.00379657 0.00168096 0.         0.        ]\n",
      " [0.         0.         0.         0.         0.         0.        ]\n",
      " [0.         0.         0.         0.         0.         0.        ]\n",
      " [0.         0.         0.         0.         0.         0.        ]\n",
      " [0.         0.03023926 0.01875452 0.0104733  0.         0.        ]\n",
      " [0.04558386 0.         0.         0.         0.         0.        ]]\n"
     ]
    }
   ],
   "source": [
    "com_jac = np.zeros(jacobians['base_link'].shape)\n",
    "counter = 0\n",
    "for i in keys:\n",
    "    com_jac += jacobians[i] * mass[counter]/total_mass\n",
    "    counter += 1\n",
    "print(com_jac)"
   ],
   "metadata": {
    "collapsed": false,
    "ExecuteTime": {
     "end_time": "2024-01-11T10:12:24.102990500Z",
     "start_time": "2024-01-11T10:12:24.057459600Z"
    }
   },
   "id": "ed812983bdc8bc87",
   "execution_count": 277
  },
  {
   "cell_type": "code",
   "outputs": [
    {
     "name": "stdout",
     "output_type": "stream",
     "text": [
      "[[ 0.00000000e+00  2.47922553e+02 -2.69474011e+02 -2.33273072e+02\n",
      "   0.00000000e+00  0.00000000e+00]\n",
      " [ 0.00000000e+00 -8.52564099e-13  9.65046557e-13  8.31120239e-13\n",
      "   0.00000000e+00  0.00000000e+00]\n",
      " [ 0.00000000e+00  0.00000000e+00  0.00000000e+00  0.00000000e+00\n",
      "   0.00000000e+00  0.00000000e+00]\n",
      " [ 0.00000000e+00  0.00000000e+00  0.00000000e+00  0.00000000e+00\n",
      "   0.00000000e+00  0.00000000e+00]\n",
      " [ 0.00000000e+00 -4.71075005e+01  8.87232682e+01  7.26164230e+01\n",
      "   0.00000000e+00  0.00000000e+00]\n",
      " [ 2.19375897e+01  0.00000000e+00  0.00000000e+00  0.00000000e+00\n",
      "   0.00000000e+00  0.00000000e+00]]\n"
     ]
    }
   ],
   "source": [
    "com_jac_inv = np.linalg.pinv(com_jac)\n",
    "print(com_jac_inv.T)"
   ],
   "metadata": {
    "collapsed": false,
    "ExecuteTime": {
     "end_time": "2024-01-11T10:12:24.103997200Z",
     "start_time": "2024-01-11T10:12:24.073459900Z"
    }
   },
   "id": "5e486c44701507e3",
   "execution_count": 278
  },
  {
   "cell_type": "code",
   "outputs": [
    {
     "name": "stdout",
     "output_type": "stream",
     "text": [
      "[ 21.93758969 -47.10750046  88.72326815  72.61642303   0.\n",
      "   0.        ]\n"
     ]
    }
   ],
   "source": [
    "V_task = np.array([0,0,-0.43,1,1,1])  \n",
    "\n",
    "joint_velocities = np.dot(com_jac_inv, V_task)\n",
    "print(joint_velocities)"
   ],
   "metadata": {
    "collapsed": false,
    "ExecuteTime": {
     "end_time": "2024-01-11T10:21:10.855308500Z",
     "start_time": "2024-01-11T10:21:10.831239200Z"
    }
   },
   "id": "a84449eb4bf24911",
   "execution_count": 281
  },
  {
   "cell_type": "code",
   "outputs": [],
   "source": [],
   "metadata": {
    "collapsed": false,
    "ExecuteTime": {
     "end_time": "2024-01-11T10:12:24.181996500Z",
     "start_time": "2024-01-11T10:12:24.148993200Z"
    }
   },
   "id": "1c7c84c9e179c60b",
   "execution_count": 279
  },
  {
   "cell_type": "markdown",
   "source": [
    "damped least squares\n",
    "legs are massless"
   ],
   "metadata": {
    "collapsed": false
   },
   "id": "59915f26421bffb3"
  }
 ],
 "metadata": {
  "kernelspec": {
   "display_name": "Python 3",
   "language": "python",
   "name": "python3"
  },
  "language_info": {
   "codemirror_mode": {
    "name": "ipython",
    "version": 2
   },
   "file_extension": ".py",
   "mimetype": "text/x-python",
   "name": "python",
   "nbconvert_exporter": "python",
   "pygments_lexer": "ipython2",
   "version": "2.7.6"
  }
 },
 "nbformat": 4,
 "nbformat_minor": 5
}
